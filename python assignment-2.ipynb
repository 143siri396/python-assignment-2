{
 "cells": [
  {
   "cell_type": "code",
   "execution_count": 2,
   "id": "820e2ef0",
   "metadata": {},
   "outputs": [
    {
     "name": "stdout",
     "output_type": "stream",
     "text": [
      "b is greater than a\n"
     ]
    }
   ],
   "source": [
    "a=10\n",
    "b=20\n",
    "if a>b:\n",
    "    print(\" a is greater than b\")\n",
    "else:\n",
    "    print(\"b is greater than a\")"
   ]
  },
  {
   "cell_type": "code",
   "execution_count": 5,
   "id": "e08acb87",
   "metadata": {},
   "outputs": [
    {
     "name": "stdout",
     "output_type": "stream",
     "text": [
      "enter a number:10\n",
      "enetr a number:30\n",
      "enetr a number:15\n",
      "d is greater\n"
     ]
    }
   ],
   "source": [
    "c=int(input(\"enter a number:\"))\n",
    "d=int(input(\"enetr a number:\"))\n",
    "e=int(input(\"enetr a number:\"))\n",
    "if c>d:\n",
    "    print(\"c is greater\")\n",
    "elif d>e:\n",
    "    print(\"d is greater\")\n",
    "else:\n",
    "    print(\"e is greater\")"
   ]
  }
 ],
 "metadata": {
  "kernelspec": {
   "display_name": "Python 3 (ipykernel)",
   "language": "python",
   "name": "python3"
  },
  "language_info": {
   "codemirror_mode": {
    "name": "ipython",
    "version": 3
   },
   "file_extension": ".py",
   "mimetype": "text/x-python",
   "name": "python",
   "nbconvert_exporter": "python",
   "pygments_lexer": "ipython3",
   "version": "3.11.5"
  }
 },
 "nbformat": 4,
 "nbformat_minor": 5
}
